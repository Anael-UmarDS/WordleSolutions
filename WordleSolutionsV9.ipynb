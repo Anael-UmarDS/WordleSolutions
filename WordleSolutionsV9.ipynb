{
  "cells": [
    {
      "cell_type": "markdown",
      "metadata": {
        "id": "QLCBSnxhVgpk"
      },
      "source": [
        "# Wordle Solutions"
      ]
    },
    {
      "cell_type": "markdown",
      "metadata": {
        "id": "NBaPhycKgoDs"
      },
      "source": [
        "#Objective\n",
        "The program, Wordle Solution, is inspired by Wordle created by The New York Times. In Wordle, the main goal is to guess a word in 6 tries. This can be hard for some users which is why this program is created.\n",
        "The program helps users by giving a list of possible solutions from Dictionary.txt for the Wordle from user inputs.\n",
        "1. Users provide characters that are in **known positions** in a 5 letter word\n",
        "2. Users can also provide or not provide characters that may be in **any position** in the 5 letter word\n",
        "3. Users can also provide or not provide characters that needs to be **excluded** from the word\n",
        "\n",
        "#Procedures and Lists\n",
        "Procedures:\n",
        "\n",
        "There are 3 procedures involved in this program.\n",
        "1. validate_input()\n",
        "2. validate_num_char()\n",
        "3. validate_elim_char()\n",
        "\n",
        "All 3 of these procedures are to validate a certain character or number given by the user. The first procedure checks to see if the user input is a single alphabet. The second function checks to see if the user input for num_char, a variable that asks the user for the number of characters in unknown placement, is a number less than 5. The last procedure validates elim_char, a variable that asks the user how many characters need to be excluded from the word. It makes sure that the input is a number.\n",
        "\n",
        "Lists:\n",
        "\n",
        "There are 3 lists involved in the program.\n",
        "1. any_char\n",
        "2. del_char\n",
        "3. Solutions\n",
        "\n",
        "The first list, any_char, is a list that contains all the unknown characters that the user inputted. This lists is later used in a conditional. The length of this list will be the same as num_char. The second list, del_char, is a list of characters that the users wants to delete or exclude from the word. This is also used in the same conditional as any_char. The length of this list is the same as elim_char. The last list is Solutions. This list will print out all solutions that fit the user inputs. This list is very helpful as it organizes all the information in a suitable fashion.\n",
        "\n",
        "\n",
        "#Description\n",
        "* The program will ask users for known characters\n",
        "* These known characters are in specific positions\n",
        "* The program will also ask users if they have characters that are in unknown positions\n",
        "* The program will also ask users if they characters they do not want to include\n",
        "* These characters will later be used to create a string that would be incorporated into a conditional\n",
        "* Using these characters, the program opens a CSV file called Dictionary.txt and searches for words that contain the characters\n",
        "* The program asks users for inputs\n",
        "* Using a procedure called validate_input, the program will verify that the entered characters are single alphabetic letters\n",
        "* Program also allows user to input a number of characters in any position and ask how many characters the user wants to input as num_char. The procedure called validate num_char will verify that the inputs are integers\n",
        "* A logical string statement is created based on the input which is evaluated using the eval function later on in the program\n",
        "* A list called any_char is created, which contains all inputs from num_char in a list\n",
        "* The program looks in the dicitonary and checks if the length is 6 and the characters are in words contained by the dictionary\n",
        "* We then create a list called \"Solutions\"\n",
        "* If the words in the dictionary contain the letters, they will be added to Solutions and it will be printed as possible solutions\n",
        "* Additionally, if the length of Solutions exceeds more than 100, then the program will ask the user to enter more characters\n"
      ]
    },
    {
      "cell_type": "code",
      "execution_count": null,
      "metadata": {
        "colab": {
          "base_uri": "https://localhost:8080/",
          "height": 74
        },
        "id": "_FU0-7VTUyHq",
        "outputId": "1ad1e37c-fd23-442f-c9c2-cec91bb5160d"
      },
      "outputs": [
        {
          "output_type": "display_data",
          "data": {
            "text/plain": [
              "<IPython.core.display.HTML object>"
            ],
            "text/html": [
              "\n",
              "     <input type=\"file\" id=\"files-79c1f50d-3c91-4ea4-a966-c7f5c01946ef\" name=\"files[]\" multiple disabled\n",
              "        style=\"border:none\" />\n",
              "     <output id=\"result-79c1f50d-3c91-4ea4-a966-c7f5c01946ef\">\n",
              "      Upload widget is only available when the cell has been executed in the\n",
              "      current browser session. Please rerun this cell to enable.\n",
              "      </output>\n",
              "      <script>// Copyright 2017 Google LLC\n",
              "//\n",
              "// Licensed under the Apache License, Version 2.0 (the \"License\");\n",
              "// you may not use this file except in compliance with the License.\n",
              "// You may obtain a copy of the License at\n",
              "//\n",
              "//      http://www.apache.org/licenses/LICENSE-2.0\n",
              "//\n",
              "// Unless required by applicable law or agreed to in writing, software\n",
              "// distributed under the License is distributed on an \"AS IS\" BASIS,\n",
              "// WITHOUT WARRANTIES OR CONDITIONS OF ANY KIND, either express or implied.\n",
              "// See the License for the specific language governing permissions and\n",
              "// limitations under the License.\n",
              "\n",
              "/**\n",
              " * @fileoverview Helpers for google.colab Python module.\n",
              " */\n",
              "(function(scope) {\n",
              "function span(text, styleAttributes = {}) {\n",
              "  const element = document.createElement('span');\n",
              "  element.textContent = text;\n",
              "  for (const key of Object.keys(styleAttributes)) {\n",
              "    element.style[key] = styleAttributes[key];\n",
              "  }\n",
              "  return element;\n",
              "}\n",
              "\n",
              "// Max number of bytes which will be uploaded at a time.\n",
              "const MAX_PAYLOAD_SIZE = 100 * 1024;\n",
              "\n",
              "function _uploadFiles(inputId, outputId) {\n",
              "  const steps = uploadFilesStep(inputId, outputId);\n",
              "  const outputElement = document.getElementById(outputId);\n",
              "  // Cache steps on the outputElement to make it available for the next call\n",
              "  // to uploadFilesContinue from Python.\n",
              "  outputElement.steps = steps;\n",
              "\n",
              "  return _uploadFilesContinue(outputId);\n",
              "}\n",
              "\n",
              "// This is roughly an async generator (not supported in the browser yet),\n",
              "// where there are multiple asynchronous steps and the Python side is going\n",
              "// to poll for completion of each step.\n",
              "// This uses a Promise to block the python side on completion of each step,\n",
              "// then passes the result of the previous step as the input to the next step.\n",
              "function _uploadFilesContinue(outputId) {\n",
              "  const outputElement = document.getElementById(outputId);\n",
              "  const steps = outputElement.steps;\n",
              "\n",
              "  const next = steps.next(outputElement.lastPromiseValue);\n",
              "  return Promise.resolve(next.value.promise).then((value) => {\n",
              "    // Cache the last promise value to make it available to the next\n",
              "    // step of the generator.\n",
              "    outputElement.lastPromiseValue = value;\n",
              "    return next.value.response;\n",
              "  });\n",
              "}\n",
              "\n",
              "/**\n",
              " * Generator function which is called between each async step of the upload\n",
              " * process.\n",
              " * @param {string} inputId Element ID of the input file picker element.\n",
              " * @param {string} outputId Element ID of the output display.\n",
              " * @return {!Iterable<!Object>} Iterable of next steps.\n",
              " */\n",
              "function* uploadFilesStep(inputId, outputId) {\n",
              "  const inputElement = document.getElementById(inputId);\n",
              "  inputElement.disabled = false;\n",
              "\n",
              "  const outputElement = document.getElementById(outputId);\n",
              "  outputElement.innerHTML = '';\n",
              "\n",
              "  const pickedPromise = new Promise((resolve) => {\n",
              "    inputElement.addEventListener('change', (e) => {\n",
              "      resolve(e.target.files);\n",
              "    });\n",
              "  });\n",
              "\n",
              "  const cancel = document.createElement('button');\n",
              "  inputElement.parentElement.appendChild(cancel);\n",
              "  cancel.textContent = 'Cancel upload';\n",
              "  const cancelPromise = new Promise((resolve) => {\n",
              "    cancel.onclick = () => {\n",
              "      resolve(null);\n",
              "    };\n",
              "  });\n",
              "\n",
              "  // Wait for the user to pick the files.\n",
              "  const files = yield {\n",
              "    promise: Promise.race([pickedPromise, cancelPromise]),\n",
              "    response: {\n",
              "      action: 'starting',\n",
              "    }\n",
              "  };\n",
              "\n",
              "  cancel.remove();\n",
              "\n",
              "  // Disable the input element since further picks are not allowed.\n",
              "  inputElement.disabled = true;\n",
              "\n",
              "  if (!files) {\n",
              "    return {\n",
              "      response: {\n",
              "        action: 'complete',\n",
              "      }\n",
              "    };\n",
              "  }\n",
              "\n",
              "  for (const file of files) {\n",
              "    const li = document.createElement('li');\n",
              "    li.append(span(file.name, {fontWeight: 'bold'}));\n",
              "    li.append(span(\n",
              "        `(${file.type || 'n/a'}) - ${file.size} bytes, ` +\n",
              "        `last modified: ${\n",
              "            file.lastModifiedDate ? file.lastModifiedDate.toLocaleDateString() :\n",
              "                                    'n/a'} - `));\n",
              "    const percent = span('0% done');\n",
              "    li.appendChild(percent);\n",
              "\n",
              "    outputElement.appendChild(li);\n",
              "\n",
              "    const fileDataPromise = new Promise((resolve) => {\n",
              "      const reader = new FileReader();\n",
              "      reader.onload = (e) => {\n",
              "        resolve(e.target.result);\n",
              "      };\n",
              "      reader.readAsArrayBuffer(file);\n",
              "    });\n",
              "    // Wait for the data to be ready.\n",
              "    let fileData = yield {\n",
              "      promise: fileDataPromise,\n",
              "      response: {\n",
              "        action: 'continue',\n",
              "      }\n",
              "    };\n",
              "\n",
              "    // Use a chunked sending to avoid message size limits. See b/62115660.\n",
              "    let position = 0;\n",
              "    do {\n",
              "      const length = Math.min(fileData.byteLength - position, MAX_PAYLOAD_SIZE);\n",
              "      const chunk = new Uint8Array(fileData, position, length);\n",
              "      position += length;\n",
              "\n",
              "      const base64 = btoa(String.fromCharCode.apply(null, chunk));\n",
              "      yield {\n",
              "        response: {\n",
              "          action: 'append',\n",
              "          file: file.name,\n",
              "          data: base64,\n",
              "        },\n",
              "      };\n",
              "\n",
              "      let percentDone = fileData.byteLength === 0 ?\n",
              "          100 :\n",
              "          Math.round((position / fileData.byteLength) * 100);\n",
              "      percent.textContent = `${percentDone}% done`;\n",
              "\n",
              "    } while (position < fileData.byteLength);\n",
              "  }\n",
              "\n",
              "  // All done.\n",
              "  yield {\n",
              "    response: {\n",
              "      action: 'complete',\n",
              "    }\n",
              "  };\n",
              "}\n",
              "\n",
              "scope.google = scope.google || {};\n",
              "scope.google.colab = scope.google.colab || {};\n",
              "scope.google.colab._files = {\n",
              "  _uploadFiles,\n",
              "  _uploadFilesContinue,\n",
              "};\n",
              "})(self);\n",
              "</script> "
            ]
          },
          "metadata": {}
        },
        {
          "output_type": "stream",
          "name": "stdout",
          "text": [
            "Saving Dictionary.txt to Dictionary.txt\n"
          ]
        }
      ],
      "source": [
        "#Upload File Dictionary.txt\n",
        "\n",
        "from google.colab import files\n",
        "uploaded = files.upload()"
      ]
    },
    {
      "cell_type": "code",
      "execution_count": null,
      "metadata": {
        "id": "AfboduTFVPoi"
      },
      "outputs": [],
      "source": [
        "#Open File Dictionary.txt\n",
        "\n",
        "han = open('Dictionary.txt')"
      ]
    },
    {
      "cell_type": "code",
      "execution_count": null,
      "metadata": {
        "id": "4c2Uu-4XVOTk"
      },
      "outputs": [],
      "source": [
        "#Read all the lines in the file\n",
        "\n",
        "Lines = han.readlines()"
      ]
    },
    {
      "cell_type": "code",
      "execution_count": null,
      "metadata": {
        "id": "RmCZEjl0Ply-"
      },
      "outputs": [],
      "source": [
        "#Close File Handle\n",
        "\n",
        "han.close()"
      ]
    },
    {
      "cell_type": "code",
      "execution_count": null,
      "metadata": {
        "id": "YMa7ApI3tq2S"
      },
      "outputs": [],
      "source": [
        "# Create Validate function to check if the input is a single alphabet letter\n",
        "# It return the letter in lowercase if it validates or print sorry and break the loop\n",
        "# If input is none then it returns None\n",
        "# The procedure will have a parameter called LETTER\n",
        "\n",
        "def validate_input(LETTER):\n",
        "      while True:\n",
        "        if len(LETTER) == 0:\n",
        "          return None\n",
        "        if len(LETTER) == 1 and LETTER.isalpha():\n",
        "          return LETTER.lower()\n",
        "        else:\n",
        "          print('Sorry, please enter a single alphabetic letter')\n",
        "          break"
      ]
    },
    {
      "cell_type": "code",
      "execution_count": null,
      "metadata": {
        "id": "fVNAnMb5eCJN"
      },
      "outputs": [],
      "source": [
        "#Create validate function for number of unknown characters (num_char)\n",
        "#This function checks of num_char is a number and is not greater than 5\n",
        "#This will use a parameter called NUMBER\n",
        "\n",
        "def validate_num_char(NUMBER):\n",
        "  NUMBER = int(float(NUMBER))\n",
        "  if NUMBER <= 5:\n",
        "    return NUMBER\n",
        "  else:\n",
        "    print('Sorry, please enter a number less than 5') \n",
        "    return 100 "
      ]
    },
    {
      "cell_type": "code",
      "execution_count": null,
      "metadata": {
        "id": "DzfX13vTd_3K"
      },
      "outputs": [],
      "source": [
        "def validate_elim_char(NUMBER):\n",
        "  NUMBER = int(float(NUMBER))\n",
        "  if NUMBER:\n",
        "    return NUMBER\n",
        "  else:\n",
        "    print('Sorry, please enter a number less than 5') \n",
        "    return 100 "
      ]
    },
    {
      "cell_type": "code",
      "execution_count": null,
      "metadata": {
        "colab": {
          "base_uri": "https://localhost:8080/"
        },
        "id": "JnHM0n_eVfWL",
        "outputId": "7ecc10dd-ffaf-4084-c464-f4ea1de53c2e"
      },
      "outputs": [
        {
          "name": "stdout",
          "output_type": "stream",
          "text": [
            "This is the Wordle Solutions. Enter KNOWN characters in specific positions and I will find the solution for you!\n",
            "Enter first character or press Enter: \n",
            "Enter second character or press Enter: \n",
            "Enter third character or press Enter: \n",
            "Enter fourth character or press Enter: \n",
            "Enter fifth character or press Enter: \n"
          ]
        }
      ],
      "source": [
        "#Objective 1: Ask for inputs and validate for 5 characters\n",
        "print('This is the Wordle Solutions. Enter KNOWN characters in specific positions and I will find the solution for you!')\n",
        "\n",
        "first_char = input('Enter first character or press Enter: ')\n",
        "first_char = validate_input(first_char) # Validate input\n",
        "\n",
        "second_char = input('Enter second character or press Enter: ')\n",
        "second_char = validate_input(second_char) # Validate input\n",
        "\n",
        "third_char = input('Enter third character or press Enter: ')\n",
        "third_char = validate_input(third_char) # Validate input\n",
        "\n",
        "fourth_char = input('Enter fourth character or press Enter: ')\n",
        "fourth_char = validate_input(fourth_char) # Validate input\n",
        "\n",
        "fifth_char = input('Enter fifth character or press Enter: ')\n",
        "fifth_char = validate_input(fifth_char) # Validate input"
      ]
    },
    {
      "cell_type": "code",
      "execution_count": null,
      "metadata": {
        "colab": {
          "base_uri": "https://localhost:8080/"
        },
        "id": "Shu3tJd5sSYe",
        "outputId": "01e34444-c3f4-4c7b-f58f-fd3337131ad7"
      },
      "outputs": [
        {
          "name": "stdout",
          "output_type": "stream",
          "text": [
            "How many characters are in UNKNOWN places? 4\n",
            "Enter the unknown character: r\n",
            "Enter the unknown character: A\n",
            "Enter the unknown character: v\n",
            "Enter the unknown character: e\n"
          ]
        }
      ],
      "source": [
        "#Users can also provide or not provide characters that may be in any position in the 5 letter word\n",
        "\n",
        "num_char = input('How many characters are in UNKNOWN places? ')\n",
        "\n",
        "#Create any_char list and set it to empty list to allow unknown positioned characters to be stored for use later\n",
        "any_char = [] \n",
        "\n",
        "#Check if the given character is not empty, then continue\n",
        "#Validate num_char and check if it is a number and is less than or equal to 5\n",
        "#Loop for number of unknown characters, num_char and append the user input into any_char list\n",
        "if num_char != '':\n",
        "  num_char = validate_num_char(num_char)\n",
        "  if num_char <= 5:\n",
        "    for i in range(1,num_char + 1):\n",
        "      unknown_char = input('Enter the unknown character: ')\n",
        "      unknown_char = validate_input(unknown_char)\n",
        "      any_char.append(unknown_char) \n",
        "      i = i + 1"
      ]
    },
    {
      "cell_type": "code",
      "execution_count": null,
      "metadata": {
        "colab": {
          "base_uri": "https://localhost:8080/"
        },
        "id": "x8ucES1xdwXU",
        "outputId": "222429fe-c8cd-4f2c-d386-d3e9d6fe11b0"
      },
      "outputs": [
        {
          "name": "stdout",
          "output_type": "stream",
          "text": [
            "How many characters do you want to EXCLUDE? 5\n",
            "Enter the excluded character: u\n",
            "Enter the excluded character: d\n",
            "Enter the excluded character: i\n",
            "Enter the excluded character: o\n",
            "Enter the excluded character: n\n"
          ]
        }
      ],
      "source": [
        "#Users can also provide or not provide characters that do not have to be included in the word\n",
        "elim_char = input('How many characters do you want to EXCLUDE? ')\n",
        "\n",
        "#Create del_char list and set it to empty list to allow deleted characters to be stored for deletion later\n",
        "del_char = []\n",
        "\n",
        "#Check if the given character is not empty, then continue\n",
        "#Validate elim_char and check if it is a number and is less than or equal to 5\n",
        "#Loop for number of eliminating characters, elim_char and append the user input into del_char list\n",
        "if elim_char != '':\n",
        "  elim_char = validate_elim_char(elim_char)\n",
        "  for i in range(1,elim_char + 1):\n",
        "    grey_char = input('Enter the excluded character: ')\n",
        "    grey_char = validate_input(grey_char)\n",
        "    del_char.append(grey_char) \n",
        "    i = i + 1"
      ]
    },
    {
      "cell_type": "code",
      "execution_count": null,
      "metadata": {
        "id": "51Hbmb1GHzKy"
      },
      "outputs": [],
      "source": [
        "# Create a string for evaluation conditional later in program\n",
        "# The following will check if the characters are having a value. The cond variables will be used to show that the character is having value.\n",
        "str1 = ''\n",
        "cond_1 = 0\n",
        "cond_2 = 0\n",
        "cond_3 = 0\n",
        "cond_4 = 0\n",
        "cond_5 = 0\n",
        "\n",
        "# This string will be passed into evaluation using the eval function later on after going through the events below\n",
        "# If the character given has value and is not NoneValue, then the condition variable corresponding for that character will be 1\n",
        "\n",
        "if first_char is not None:\n",
        "  str1 = str1 + 'line[0] ==' + '\"' + first_char.lower() + '\" ' # Add the following to the string\n",
        "  cond_1 = cond_1 + 1\n",
        "\n",
        "if second_char is not None:\n",
        "  if cond_1 == 1:\n",
        "    str1 = str1 + 'and '\n",
        "  str1 = str1 + 'line[1] ==' + '\"' + second_char.lower() + '\" ' # Add the following to the string...If cond_1 is 1, then there will be an 'and'\n",
        "  cond_2 = cond_2 + 1\n",
        "\n",
        "if third_char is not None:\n",
        "  if (cond_1 == 1 or cond_2 ==1):\n",
        "    str1 = str1 + 'and '\n",
        "  str1 = str1 + 'line[2] ==' + '\"' + third_char.lower() + '\" ' # Add the following to the string...If the either one of the conditions before are true, then it will add an 'and' to the string statement\n",
        "  cond_3 = cond_3 + 1\n",
        "\n",
        "if fourth_char is not None:\n",
        "  if (cond_1 == 1 or cond_2 ==1 or cond_3 == 1):\n",
        "    str1 = str1 + 'and '\n",
        "  str1 = str1 + 'line[3] ==' + '\"' + fourth_char.lower() + '\" ' # Add the following to the string...If the either one of the conditions before are true, then it will add an 'and' to the string statement\n",
        "  cond_4 = cond_4 + 1\n",
        "\n",
        "if fifth_char is not None:\n",
        "  if (cond_1 == 1 or cond_2 ==1 or cond_3 == 1 or cond_4 == 1): # Add the following to the string...If the either one of the conditions before are true, then it will add an 'and' to the string statement\n",
        "    str1 = str1 + 'and '\n",
        "  str1 = str1 + 'line[4] ==' + '\"' + fifth_char.lower() + '\" '\n"
      ]
    },
    {
      "cell_type": "code",
      "source": [
        "#Set i to 0 for the loop\n",
        "i = 0\n",
        "#Check if the user has input unknown chars and any_char list is not empty, then add the conditional string logic in the previous string\n",
        "if bool(any_char):\n",
        "  if (cond_1 == 1 or cond_2 == 1 or cond_3 == 1 or cond_4 == 1 or cond_5 == 1):\n",
        "    str1 = str1 + 'and '\n",
        "  for letter in any_char:\n",
        "    str1 = str1 + '(line[0]==' + '\"' + letter + '\" or '\n",
        "    str1 = str1 + 'line[1]==' + '\"' + letter + '\" or '\n",
        "    str1 = str1 + 'line[2]==' + '\"' + letter + '\" or '\n",
        "    str1 = str1 + 'line[3]==' + '\"' + letter + '\" or '\n",
        "    str1 = str1 + 'line[4]==' + '\"' + letter + '\") '\n",
        "    if i < num_char - 1:\n",
        "      str1 = str1 + ' and '\n",
        "    i = i + 1"
      ],
      "metadata": {
        "id": "cPflEZi2nO-3"
      },
      "execution_count": null,
      "outputs": []
    },
    {
      "cell_type": "code",
      "execution_count": null,
      "metadata": {
        "id": "jp9R-CXJe2wH"
      },
      "outputs": [],
      "source": [
        "#Set i to 0 for the loop\n",
        "i = 0\n",
        "\n",
        "#Check if the user has input characters that need to be deleted and del_char list is not empty, then add the conditional string logic in the previous string\n",
        "if bool(del_char):\n",
        "  if (len(str1) >2 ):\n",
        "    str1 = str1 + 'and not ( '\n",
        "  for letter in del_char:\n",
        "    str1 = str1 + '(line[0]==' + '\"' + letter + '\" or '\n",
        "    str1 = str1 + 'line[1]==' + '\"' + letter + '\" or '\n",
        "    str1 = str1 + 'line[2]==' + '\"' + letter + '\" or '\n",
        "    str1 = str1 + 'line[3]==' + '\"' + letter + '\" or '\n",
        "    str1 = str1 + 'line[4]==' + '\"' + letter + '\") '\n",
        "    if i < elim_char - 1:\n",
        "      str1 = str1 + ' or '\n",
        "    i = i + 1\n",
        "  str1 = str1 + ' ) '"
      ]
    },
    {
      "cell_type": "code",
      "execution_count": null,
      "metadata": {
        "colab": {
          "base_uri": "https://localhost:8080/"
        },
        "id": "uSXSwAbNZkim",
        "outputId": "1f5722fe-2a0b-44df-e9bc-d11e3f70cc27"
      },
      "outputs": [
        {
          "output_type": "stream",
          "name": "stdout",
          "text": [
            "41 solutions meet your criteria:  ['arvel', 'aver-', 'Avera', 'avers', 'avert', 'brave', 'breva', 'carve', 'caver', 'crave', 'Drave', 'eaver', 'grave', 'Harve', 'haver', 'Havre', 'yerva', 'javer', 'kaver', 'larve', 'Laver', 'Marve', 'Narev', 'Nerva', 'parve', 'Paver', 'raver', 'raves', 'revay', 'saver', 'tarve', 'taver', 'trave', 'Treva', 'varec', 'varve', 'velar', 'veray', 'versa', 'warve', 'waver']\n"
          ]
        }
      ],
      "source": [
        "#Create a blank solution list and evaluate the created string logic\n",
        "Solutions = []\n",
        "#Go through the Lines and see if the length is 6(0,1,2,3,4,5), then it will evaluate the string to search for the words that could fit the solution\n",
        "for line in Lines:\n",
        "    if len(line) == 6:\n",
        "      if eval(str1): #Evaluate the string statement in an if condition\n",
        "        Solutions.append(line.strip())\n",
        "        #Append or add the line to the list of solutions\n",
        "\n",
        "if len(Solutions) > 100: #If the total number of solutions amounts to being greater than 100, then print an error statement.\n",
        "  print('Sorry, too much data, please enter more characters for more specific answer')\n",
        "elif Solutions == []: #If the list remains empty, then print a sorry statement saying that there were no matches\n",
        "  print('Sorry, there are no words to be found that relate to your search. Please try again')\n",
        "else: # Print the answers\n",
        "  print(len(Solutions), 'solutions meet your criteria: ', Solutions)"
      ]
    }
  ],
  "metadata": {
    "colab": {
      "provenance": []
    },
    "kernelspec": {
      "display_name": "Python 3",
      "name": "python3"
    },
    "language_info": {
      "name": "python"
    }
  },
  "nbformat": 4,
  "nbformat_minor": 0
}